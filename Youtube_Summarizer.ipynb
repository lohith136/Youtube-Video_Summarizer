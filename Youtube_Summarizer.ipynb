{
  "nbformat": 4,
  "nbformat_minor": 0,
  "metadata": {
    "colab": {
      "provenance": []
    },
    "kernelspec": {
      "name": "python3",
      "display_name": "Python 3"
    },
    "language_info": {
      "name": "python"
    }
  },
  "cells": [
    {
      "cell_type": "code",
      "source": [
        "!pip install openai"
      ],
      "metadata": {
        "colab": {
          "base_uri": "https://localhost:8080/"
        },
        "collapsed": true,
        "id": "TEQXCN3TzxEo",
        "outputId": "995f4b41-fdcc-4f4d-d17f-260f2b60c376"
      },
      "execution_count": 1,
      "outputs": [
        {
          "output_type": "stream",
          "name": "stdout",
          "text": [
            "Requirement already satisfied: openai in /usr/local/lib/python3.11/dist-packages (1.61.1)\n",
            "Requirement already satisfied: anyio<5,>=3.5.0 in /usr/local/lib/python3.11/dist-packages (from openai) (3.7.1)\n",
            "Requirement already satisfied: distro<2,>=1.7.0 in /usr/local/lib/python3.11/dist-packages (from openai) (1.9.0)\n",
            "Requirement already satisfied: httpx<1,>=0.23.0 in /usr/local/lib/python3.11/dist-packages (from openai) (0.28.1)\n",
            "Requirement already satisfied: jiter<1,>=0.4.0 in /usr/local/lib/python3.11/dist-packages (from openai) (0.8.2)\n",
            "Requirement already satisfied: pydantic<3,>=1.9.0 in /usr/local/lib/python3.11/dist-packages (from openai) (2.10.6)\n",
            "Requirement already satisfied: sniffio in /usr/local/lib/python3.11/dist-packages (from openai) (1.3.1)\n",
            "Requirement already satisfied: tqdm>4 in /usr/local/lib/python3.11/dist-packages (from openai) (4.67.1)\n",
            "Requirement already satisfied: typing-extensions<5,>=4.11 in /usr/local/lib/python3.11/dist-packages (from openai) (4.12.2)\n",
            "Requirement already satisfied: idna>=2.8 in /usr/local/lib/python3.11/dist-packages (from anyio<5,>=3.5.0->openai) (3.10)\n",
            "Requirement already satisfied: certifi in /usr/local/lib/python3.11/dist-packages (from httpx<1,>=0.23.0->openai) (2025.1.31)\n",
            "Requirement already satisfied: httpcore==1.* in /usr/local/lib/python3.11/dist-packages (from httpx<1,>=0.23.0->openai) (1.0.7)\n",
            "Requirement already satisfied: h11<0.15,>=0.13 in /usr/local/lib/python3.11/dist-packages (from httpcore==1.*->httpx<1,>=0.23.0->openai) (0.14.0)\n",
            "Requirement already satisfied: annotated-types>=0.6.0 in /usr/local/lib/python3.11/dist-packages (from pydantic<3,>=1.9.0->openai) (0.7.0)\n",
            "Requirement already satisfied: pydantic-core==2.27.2 in /usr/local/lib/python3.11/dist-packages (from pydantic<3,>=1.9.0->openai) (2.27.2)\n"
          ]
        }
      ]
    },
    {
      "cell_type": "code",
      "source": [
        "import requests\n",
        "import json\n",
        "import os\n",
        "import math\n",
        "from youtube_transcript_api import YouTubeTranscriptApi\n",
        "from IPython.display import YouTubeVideo\n",
        "from urllib.parse import urlparse, parse_qs\n",
        "from google.colab import files  # Import for downloading files in Colab\n",
        "\n",
        "# Replace with your Groq API key\n",
        "GROQ_API_KEY = \"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\"\n",
        "\n",
        "# Function to extract YouTube video ID from URL\n",
        "def get_video_id(url):\n",
        "    parsed_url = urlparse(url)\n",
        "    if parsed_url.hostname in [\"www.youtube.com\", \"youtube.com\"]:\n",
        "        return parse_qs(parsed_url.query).get(\"v\", [None])[0]\n",
        "    elif parsed_url.hostname == \"youtu.be\":\n",
        "        return parsed_url.path.lstrip(\"/\")\n",
        "    return None\n",
        "\n",
        "# Function to summarize text using Groq API\n",
        "def summarize_with_groq(text):\n",
        "    url = \"https://api.groq.com/openai/v1/chat/completions\"  # Corrected endpoint\n",
        "    headers = {\n",
        "        \"Authorization\": f\"Bearer {GROQ_API_KEY}\",\n",
        "        \"Content-Type\": \"application/json\"\n",
        "    }\n",
        "\n",
        "    payload = {\n",
        "        \"model\": \"mixtral-8x7b-32768\",\n",
        "        \"messages\": [{\"role\": \"system\", \"content\": \"Summarize the following text concisely:\"},\n",
        "                     {\"role\": \"user\", \"content\": text}],\n",
        "        \"temperature\": 0.3,\n",
        "        \"max_tokens\": 300\n",
        "    }\n",
        "\n",
        "    response = requests.post(url, headers=headers, json=payload)\n",
        "\n",
        "    if response.status_code == 200:\n",
        "        return response.json()[\"choices\"][0][\"message\"][\"content\"]\n",
        "    else:\n",
        "        print(\"Error with Groq API:\", response.json())\n",
        "        return None\n",
        "\n",
        "# Ask the user to enter a YouTube URL\n",
        "youtube_video = input(\"Enter the YouTube video URL: \").strip()\n",
        "video_id = get_video_id(youtube_video)\n",
        "\n",
        "if video_id:\n",
        "    display(YouTubeVideo(video_id))\n",
        "\n",
        "    try:\n",
        "        # Get transcript\n",
        "        transcript = YouTubeTranscriptApi.get_transcript(video_id)\n",
        "\n",
        "        if not transcript:\n",
        "            print(\"No transcript available for this video.\")\n",
        "        else:\n",
        "            # Convert transcript to a single text string\n",
        "            result = \" \".join([i['text'] for i in transcript])\n",
        "\n",
        "            # Define chunk size and split text accordingly\n",
        "            chunk_size = 4096  # Mixtral can handle large inputs\n",
        "            num_iters = math.ceil(len(result) / chunk_size)\n",
        "\n",
        "            summarized_text = []\n",
        "\n",
        "            # Process transcript in chunks\n",
        "            for i in range(num_iters):\n",
        "                start = i * chunk_size\n",
        "                end = min((i + 1) * chunk_size, len(result))\n",
        "                chunk = result[start:end]\n",
        "\n",
        "                if len(chunk) < 50:  # Skip very small chunks\n",
        "                    continue\n",
        "\n",
        "                # Summarize text chunk using Groq API\n",
        "                summary = summarize_with_groq(chunk)\n",
        "                if summary:\n",
        "                    summarized_text.append(summary)\n",
        "\n",
        "            # Combine all summarized sections\n",
        "            final_summary = \" \".join(summarized_text)\n",
        "\n",
        "            # Format text (10 words per line)\n",
        "            words = final_summary.split()\n",
        "            formatted_text = \"\\n\".join([\" \".join(words[i:i+10]) for i in range(0, len(words), 10)])\n",
        "\n",
        "            # Save to a text file\n",
        "            file_path = \"summarized_text.txt\"\n",
        "            with open(file_path, \"w\", encoding=\"utf-8\") as file:\n",
        "                file.write(formatted_text)\n",
        "\n",
        "            # Automatically download the file\n",
        "            files.download(file_path)\n",
        "\n",
        "            print(\"\\nSummary saved and downloaded as 'summarized_text.txt'.\")\n",
        "\n",
        "    except Exception as e:\n",
        "        print(\"Error retrieving transcript:\", e)\n",
        "else:\n",
        "    print(\"Invalid YouTube URL\")\n"
      ],
      "metadata": {
        "colab": {
          "base_uri": "https://localhost:8080/",
          "height": 373
        },
        "id": "mDPnlq4w6oWb",
        "outputId": "b6275f12-6eb6-4d2c-cb91-1e385b388dc0"
      },
      "execution_count": 2,
      "outputs": [
        {
          "name": "stdout",
          "output_type": "stream",
          "text": [
            "Enter the YouTube video URL: https://youtu.be/OKJImnk-gzQ?feature=shared\n"
          ]
        },
        {
          "output_type": "display_data",
          "data": {
            "text/plain": [
              "<IPython.lib.display.YouTubeVideo at 0x783537296f50>"
            ],
            "text/html": [
              "\n",
              "        <iframe\n",
              "            width=\"400\"\n",
              "            height=\"300\"\n",
              "            src=\"https://www.youtube.com/embed/OKJImnk-gzQ\"\n",
              "            frameborder=\"0\"\n",
              "            allowfullscreen\n",
              "            \n",
              "        ></iframe>\n",
              "        "
            ],
            "image/jpeg": "[encoded data removed]"
          },
          "metadata": {}
        },
        {
          "output_type": "display_data",
          "data": {
            "text/plain": [
              "<IPython.core.display.Javascript object>"
            ],
            "application/javascript": [
              "\n",
              "    async function download(id, filename, size) {\n",
              "      if (!google.colab.kernel.accessAllowed) {\n",
              "        return;\n",
              "      }\n",
              "      const div = document.createElement('div');\n",
              "      const label = document.createElement('label');\n",
              "      label.textContent = `Downloading \"${filename}\": `;\n",
              "      div.appendChild(label);\n",
              "      const progress = document.createElement('progress');\n",
              "      progress.max = size;\n",
              "      div.appendChild(progress);\n",
              "      document.body.appendChild(div);\n",
              "\n",
              "      const buffers = [];\n",
              "      let downloaded = 0;\n",
              "\n",
              "      const channel = await google.colab.kernel.comms.open(id);\n",
              "      // Send a message to notify the kernel that we're ready.\n",
              "      channel.send({})\n",
              "\n",
              "      for await (const message of channel.messages) {\n",
              "        // Send a message to notify the kernel that we're ready.\n",
              "        channel.send({})\n",
              "        if (message.buffers) {\n",
              "          for (const buffer of message.buffers) {\n",
              "            buffers.push(buffer);\n",
              "            downloaded += buffer.byteLength;\n",
              "            progress.value = downloaded;\n",
              "          }\n",
              "        }\n",
              "      }\n",
              "      const blob = new Blob(buffers, {type: 'application/binary'});\n",
              "      const a = document.createElement('a');\n",
              "      a.href = window.URL.createObjectURL(blob);\n",
              "      a.download = filename;\n",
              "      div.appendChild(a);\n",
              "      a.click();\n",
              "      div.remove();\n",
              "    }\n",
              "  "
            ]
          },
          "metadata": {}
        },
        {
          "output_type": "display_data",
          "data": {
            "text/plain": [
              "<IPython.core.display.Javascript object>"
            ],
            "application/javascript": [
              "download(\"download_36201eee-0348-49f7-a937-34b15a5da818\", \"summarized_text.txt\", 966)"
            ]
          },
          "metadata": {}
        },
        {
          "output_type": "stream",
          "name": "stdout",
          "text": [
            "\n",
            "Summary saved and downloaded as 'summarized_text.txt'.\n"
          ]
        }
      ]
    }
  ]
}